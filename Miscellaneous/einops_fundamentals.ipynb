{
  "nbformat": 4,
  "nbformat_minor": 0,
  "metadata": {
    "colab": {
      "provenance": [],
      "authorship_tag": "ABX9TyOzid1fndGt9CuHBAWGYt3P",
      "include_colab_link": true
    },
    "kernelspec": {
      "name": "python3",
      "display_name": "Python 3"
    },
    "language_info": {
      "name": "python"
    }
  },
  "cells": [
    {
      "cell_type": "markdown",
      "metadata": {
        "id": "view-in-github",
        "colab_type": "text"
      },
      "source": [
        "<a href=\"https://colab.research.google.com/github/adityaprasad2005/Machine-Learning-Content/blob/main/Miscellaneous/einops_fundamentals.ipynb\" target=\"_parent\"><img src=\"https://colab.research.google.com/assets/colab-badge.svg\" alt=\"Open In Colab\"/></a>"
      ]
    },
    {
      "cell_type": "markdown",
      "source": [
        "### Einops Basics Tutorial\n",
        "Comprehensive Guide to Learn the Basics of the einops Library\n",
        "\n",
        "Introduction\n",
        "Einops (Einstein Operations) simplifies tensor operations and reshaping in deep learning workflows.\n",
        "\n",
        "This notebook will help you understand the core functionalities of the library with examples."
      ],
      "metadata": {
        "id": "ke0GaPcuW81V"
      }
    },
    {
      "cell_type": "code",
      "execution_count": 1,
      "metadata": {
        "colab": {
          "base_uri": "https://localhost:8080/"
        },
        "id": "tS_hGooAW1Ne",
        "outputId": "0c0cfa9b-bb49-4efa-f1db-5032a500787b"
      },
      "outputs": [
        {
          "output_type": "stream",
          "name": "stdout",
          "text": [
            "Requirement already satisfied: einops in /usr/local/lib/python3.10/dist-packages (0.8.0)\n"
          ]
        }
      ],
      "source": [
        "# Install the library\n",
        "!pip install einops\n",
        "\n",
        "# Import required libraries\n",
        "import numpy as np\n",
        "import torch\n",
        "from einops import rearrange, reduce, repeat\n"
      ]
    },
    {
      "cell_type": "code",
      "source": [
        "# Section 1: Rearranging Tensors\n",
        "# 'rearrange' allows you to change the order of axes and reshape tensors in a simple way.\n",
        "\n",
        "# Example 1: Rearranging axes in a NumPy array\n",
        "arr = np.random.rand(2, 3, 4)\n",
        "print(\"Original arr: \", arr)\n",
        "print(\"Original shape:\", arr.shape)\n",
        "\n",
        "arr_rearranged = rearrange(arr, 'a b c -> c a b')\n",
        "print(\"Rearranged arr: \", arr_rearranged)\n",
        "print(\"Rearranged shape:\", arr_rearranged.shape)"
      ],
      "metadata": {
        "colab": {
          "base_uri": "https://localhost:8080/"
        },
        "id": "4FgRFG8kXMtr",
        "outputId": "729170fb-66e4-4d36-cb34-e8ed3c4db5c3"
      },
      "execution_count": 5,
      "outputs": [
        {
          "output_type": "stream",
          "name": "stdout",
          "text": [
            "Original arr:  [[[0.93788152 0.54424846 0.50301967 0.85605589]\n",
            "  [0.94008687 0.74513867 0.33161902 0.33009809]\n",
            "  [0.94601405 0.78897132 0.15552221 0.83785964]]\n",
            "\n",
            " [[0.21454039 0.82397806 0.99839673 0.92243391]\n",
            "  [0.71875186 0.5559607  0.59709086 0.89497218]\n",
            "  [0.05875955 0.6766702  0.13109067 0.66988978]]]\n",
            "Original shape: (2, 3, 4)\n",
            "Rearranged arr:  [[[0.93788152 0.94008687 0.94601405]\n",
            "  [0.21454039 0.71875186 0.05875955]]\n",
            "\n",
            " [[0.54424846 0.74513867 0.78897132]\n",
            "  [0.82397806 0.5559607  0.6766702 ]]\n",
            "\n",
            " [[0.50301967 0.33161902 0.15552221]\n",
            "  [0.99839673 0.59709086 0.13109067]]\n",
            "\n",
            " [[0.85605589 0.33009809 0.83785964]\n",
            "  [0.92243391 0.89497218 0.66988978]]]\n",
            "Rearranged shape: (4, 2, 3)\n"
          ]
        }
      ]
    },
    {
      "cell_type": "code",
      "source": [
        "# Example 2: Flattening a tensor\n",
        "arr_flattened = rearrange(arr, 'b c h -> (b c h)')\n",
        "\n",
        "print(\"Flattened arr: \", arr_flattened)\n",
        "print(\"Flattened shape:\", arr_flattened.shape)\n"
      ],
      "metadata": {
        "colab": {
          "base_uri": "https://localhost:8080/"
        },
        "id": "_hSOAlmoYRGe",
        "outputId": "68ace64c-be9b-4995-f667-fc85fd05006f"
      },
      "execution_count": 7,
      "outputs": [
        {
          "output_type": "stream",
          "name": "stdout",
          "text": [
            "Flattened arr:  [0.93788152 0.54424846 0.50301967 0.85605589 0.94008687 0.74513867\n",
            " 0.33161902 0.33009809 0.94601405 0.78897132 0.15552221 0.83785964\n",
            " 0.21454039 0.82397806 0.99839673 0.92243391 0.71875186 0.5559607\n",
            " 0.59709086 0.89497218 0.05875955 0.6766702  0.13109067 0.66988978]\n",
            "Flattened shape: (24,)\n"
          ]
        }
      ]
    },
    {
      "cell_type": "code",
      "source": [
        "# Example 3: Splitting dimensions\n",
        "\n",
        "arr_split = rearrange(arr, 'b c (h w) -> b c h w', h=2, w=2)\n",
        "\n",
        "print(\"Split arr: \", arr_split)\n",
        "print(\"Split dimensions shape:\", arr_split.shape)"
      ],
      "metadata": {
        "colab": {
          "base_uri": "https://localhost:8080/"
        },
        "id": "lGNw_0dgYZPh",
        "outputId": "103b1d00-e9cd-4956-ddb6-8980aea583a6"
      },
      "execution_count": 8,
      "outputs": [
        {
          "output_type": "stream",
          "name": "stdout",
          "text": [
            "Split arr:  [[[[0.93788152 0.54424846]\n",
            "   [0.50301967 0.85605589]]\n",
            "\n",
            "  [[0.94008687 0.74513867]\n",
            "   [0.33161902 0.33009809]]\n",
            "\n",
            "  [[0.94601405 0.78897132]\n",
            "   [0.15552221 0.83785964]]]\n",
            "\n",
            "\n",
            " [[[0.21454039 0.82397806]\n",
            "   [0.99839673 0.92243391]]\n",
            "\n",
            "  [[0.71875186 0.5559607 ]\n",
            "   [0.59709086 0.89497218]]\n",
            "\n",
            "  [[0.05875955 0.6766702 ]\n",
            "   [0.13109067 0.66988978]]]]\n",
            "Split dimensions shape: (2, 3, 2, 2)\n"
          ]
        }
      ]
    },
    {
      "cell_type": "code",
      "source": [
        "# Section 2: Reducing Tensors\n",
        "# `reduce` helps perform reduction operations like sum, mean, or max along specified dimensions.\n",
        "\n",
        "# Example 4: Summing over a dimension\n",
        "reduced_sum = reduce(arr, 'b c h -> b h', 'sum')\n",
        "print(\"Reduced sum\", reduced_sum)\n",
        "print(\"Reduced sum shape:\", reduced_sum.shape)\n",
        "\n",
        "# Example 5: Calculating mean across a dimension\n",
        "reduced_mean = reduce(arr, 'b c h -> b h', 'mean')\n",
        "print(\"Reduced mean\", reduced_mean)\n",
        "print(\"Reduced mean shape:\", reduced_mean.shape)"
      ],
      "metadata": {
        "colab": {
          "base_uri": "https://localhost:8080/"
        },
        "id": "3c457_6wYjch",
        "outputId": "7329b69e-f2f2-4ed1-e109-b67ed08f27b7"
      },
      "execution_count": 10,
      "outputs": [
        {
          "output_type": "stream",
          "name": "stdout",
          "text": [
            "Reduced sum [[2.82398243 2.07835845 0.9901609  2.02401363]\n",
            " [0.99205181 2.05660896 1.72657826 2.48729588]]\n",
            "Reduced sum shape: (2, 4)\n",
            "Reduced mean [[0.94132748 0.69278615 0.33005363 0.67467121]\n",
            " [0.33068394 0.68553632 0.57552609 0.82909863]]\n",
            "Reduced mean shape: (2, 4)\n"
          ]
        }
      ]
    },
    {
      "cell_type": "code",
      "source": [
        "# Section 3: Repeating Tensors\n",
        "# `repeat` duplicates tensors along specified dimensions.\n",
        "\n",
        "# Example 6: Repeating along a new dimension\n",
        "repeated_tensor = repeat(arr, 'b c h -> b c (h repeat)', repeat=2)\n",
        "print(\"Repeated tensor shape:\", repeated_tensor.shape)\n",
        "\n",
        "# Example 7: Adding a new axis and repeating\n",
        "expanded_tensor = repeat(arr, 'b c h -> b c h d', d=2)\n",
        "print(\"Expanded tensor shape:\", expanded_tensor.shape)"
      ],
      "metadata": {
        "colab": {
          "base_uri": "https://localhost:8080/"
        },
        "id": "qs_9DI2xY4Qw",
        "outputId": "5f146831-5a10-4bac-9397-261058ca1064"
      },
      "execution_count": 11,
      "outputs": [
        {
          "output_type": "stream",
          "name": "stdout",
          "text": [
            "Repeated tensor shape: (2, 3, 8)\n",
            "Expanded tensor shape: (2, 3, 4, 2)\n"
          ]
        }
      ]
    },
    {
      "cell_type": "code",
      "source": [
        "# Section 4: Combining Operations\n",
        "# You can chain multiple operations for complex transformations.\n",
        "\n",
        "# Example 8: Combining rearrange and reduce\n",
        "complex_transformation = reduce(rearrange(arr, 'b c h -> c (b h)'), 'c b -> b', 'sum')\n",
        "print(\"Combined operation result shape:\", complex_transformation.shape)"
      ],
      "metadata": {
        "colab": {
          "base_uri": "https://localhost:8080/"
        },
        "id": "edh3AvEQY-8B",
        "outputId": "e3cc8326-6a86-4085-a0dd-3b35e36a6136"
      },
      "execution_count": 12,
      "outputs": [
        {
          "output_type": "stream",
          "name": "stdout",
          "text": [
            "Combined operation result shape: (8,)\n"
          ]
        }
      ]
    },
    {
      "cell_type": "code",
      "source": [
        "# Section 5: Working with PyTorch Tensors\n",
        "# All einops operations are compatible with PyTorch tensors.\n",
        "\n",
        "tensor = torch.randn(2, 3, 4)\n",
        "print(\"Original tensor shape:\", tensor.shape)\n",
        "\n",
        "# Example 9: Rearranging a PyTorch tensor\n",
        "tensor_rearranged = rearrange(tensor, 'b c h -> h b c')\n",
        "print(\"Rearranged PyTorch tensor shape:\", tensor_rearranged.shape)\n",
        "\n",
        "# Example 10: Reducing a PyTorch tensor\n",
        "tensor_reduced = reduce(tensor, 'b c h -> b h', 'sum')\n",
        "print(\"Reduced PyTorch tensor shape:\", tensor_reduced.shape)\n",
        "\n",
        "# Example 11: Repeating a PyTorch tensor\n",
        "tensor_repeated = repeat(tensor, 'b c h -> b c (h repeat)', repeat=2)\n",
        "print(\"Repeated PyTorch tensor shape:\", tensor_repeated.shape)\n"
      ],
      "metadata": {
        "colab": {
          "base_uri": "https://localhost:8080/"
        },
        "id": "-9Gf_tPZZHb2",
        "outputId": "412e9107-5a71-49fb-9b45-1759eb5f705c"
      },
      "execution_count": 13,
      "outputs": [
        {
          "output_type": "stream",
          "name": "stdout",
          "text": [
            "Original tensor shape: torch.Size([2, 3, 4])\n",
            "Rearranged PyTorch tensor shape: torch.Size([4, 2, 3])\n",
            "Reduced PyTorch tensor shape: torch.Size([2, 4])\n",
            "Repeated PyTorch tensor shape: torch.Size([2, 3, 8])\n"
          ]
        }
      ]
    },
    {
      "cell_type": "code",
      "source": [
        "\n",
        "# Conclusion\n",
        "# With einops, tensor operations become intuitive and concise.\n",
        "# This notebook covered the basics of `rearrange`, `reduce`, and `repeat` functionalities.\n",
        "# Explore these examples and experiment with your own tensor operations to master the library!"
      ],
      "metadata": {
        "id": "K1fXD_yzZKHx"
      },
      "execution_count": 14,
      "outputs": []
    }
  ]
}
{
  "cells": [
    {
      "cell_type": "markdown",
      "metadata": {
        "id": "view-in-github",
        "colab_type": "text"
      },
      "source": [
        "<a href=\"https://colab.research.google.com/github/adityaprasad2005/Machine-Learning-Content/blob/main/Miscellaneous/pytorch_fundamentals.ipynb\" target=\"_parent\"><img src=\"https://colab.research.google.com/assets/colab-badge.svg\" alt=\"Open In Colab\"/></a>"
      ]
    },
    {
      "cell_type": "markdown",
      "source": [
        "*Hey This is the first time i'am working in googleColab and saving the files in Github repo*\n",
        "\n",
        "**Push to Github:** *You just need to upload the upload the .ipynb on your repo: \"machine learning content\" and then it will be saved up in your repo*\n",
        "\n",
        "**Saving**: *Even if you don't upload it everytime, it will be saved on your drive. You can push it in your github anytime using the upload to git option*"
      ],
      "metadata": {
        "id": "Pb6k9IG_4W1Z"
      },
      "id": "Pb6k9IG_4W1Z"
    },
    {
      "cell_type": "markdown",
      "metadata": {
        "id": "BEWKdjAIraVm"
      },
      "source": [
        "# PyTorch Fundamentals\n",
        "This Jupyter notebook will guide you through the basics of the PyTorch and Torch libraries.\n",
        "It will cover everything from tensor manipulation to building and training simple neural networks.\n",
        "\n",
        "## Table of Contents:\n",
        "1. Introduction to PyTorch\n",
        "2. Autograd (Automatic Differentiation)\n",
        "3. Building Neural Networks in PyTorch\n",
        "4. Data Loading and Preprocessing\n",
        "5. Training Models\n",
        "6. Saving and Loading Models\n",
        "7. GPU Acceleration\n",
        "8. Transfer Learning (Advanced)\n"
      ],
      "id": "BEWKdjAIraVm"
    },
    {
      "cell_type": "markdown",
      "metadata": {
        "id": "o_WKNWruraVp"
      },
      "source": [
        "## 1. Introduction to PyTorch\n",
        "### What is PyTorch?\n",
        "PyTorch is an open-source machine learning library based on the Torch library. It provides flexible tools to build deep learning models and has a dynamic computation graph.\n",
        "It is primarily used for training neural networks.\n",
        "\n",
        "### Tensors in PyTorch\n",
        "Tensors are the core building blocks of PyTorch. They are multi-dimensional arrays and are similar to NumPy arrays, but they can also run on GPUs.\n"
      ],
      "id": "o_WKNWruraVp"
    },
    {
      "cell_type": "code",
      "source": [
        "# To import uninstalled libraries\n",
        "\n",
        "!pip install gym"
      ],
      "metadata": {
        "colab": {
          "base_uri": "https://localhost:8080/"
        },
        "id": "8yASLuGx0En8",
        "outputId": "8e7e81b4-f2aa-455b-c0bc-cadcec897ad6"
      },
      "id": "8yASLuGx0En8",
      "execution_count": 8,
      "outputs": [
        {
          "output_type": "stream",
          "name": "stdout",
          "text": [
            "Requirement already satisfied: gym in /usr/local/lib/python3.10/dist-packages (0.25.2)\n",
            "Requirement already satisfied: numpy>=1.18.0 in /usr/local/lib/python3.10/dist-packages (from gym) (1.26.4)\n",
            "Requirement already satisfied: cloudpickle>=1.2.0 in /usr/local/lib/python3.10/dist-packages (from gym) (3.1.0)\n",
            "Requirement already satisfied: gym_notices>=0.0.4 in /usr/local/lib/python3.10/dist-packages (from gym) (0.0.8)\n"
          ]
        }
      ]
    },
    {
      "cell_type": "code",
      "source": [
        "# Creating Tensors\n",
        "\n",
        "import torch\n",
        "\n",
        "tensor_a = torch.tensor([1, 2, 3, 4])  # 1D Tensor\n",
        "tensor_b = torch.tensor([[1,2,3], [4,5,6]])\n",
        "print(tensor_a)\n",
        "print(tensor_b)\n",
        "\n",
        "tensor_c = torch.ones(2, 2)  # 3x3 Tensor filled with ones\n",
        "tensor_d = torch.zeros(2, 2)  # 2x2 Tensor filled with zeros\n",
        "print(tensor_c)\n",
        "print(tensor_d)"
      ],
      "metadata": {
        "colab": {
          "base_uri": "https://localhost:8080/"
        },
        "id": "VUBYLuqsr0sq",
        "outputId": "749cd65c-56ea-4601-8696-eb30ec47749f"
      },
      "id": "VUBYLuqsr0sq",
      "execution_count": 3,
      "outputs": [
        {
          "output_type": "stream",
          "name": "stdout",
          "text": [
            "tensor([1, 2, 3, 4])\n",
            "tensor([[1, 2, 3],\n",
            "        [4, 5, 6]])\n",
            "tensor([[1., 1.],\n",
            "        [1., 1.]])\n",
            "tensor([[0., 0.],\n",
            "        [0., 0.]])\n"
          ]
        }
      ]
    },
    {
      "cell_type": "code",
      "source": [
        "# Tensor Operations\n",
        "\n",
        "tensor_sum = tensor_c + tensor_d  # Tensor addition\n",
        "tensor_mult = tensor_c * 2  # Scalar multiplication\n",
        "print(tensor_sum)\n",
        "print(tensor_mult)"
      ],
      "metadata": {
        "colab": {
          "base_uri": "https://localhost:8080/"
        },
        "id": "1CZpcif9z7Qv",
        "outputId": "187f4054-f0e2-493f-89b4-b2d4a1e1f151"
      },
      "id": "1CZpcif9z7Qv",
      "execution_count": 4,
      "outputs": [
        {
          "output_type": "stream",
          "name": "stdout",
          "text": [
            "tensor([[1., 1.],\n",
            "        [1., 1.]])\n",
            "tensor([[2., 2.],\n",
            "        [2., 2.]])\n"
          ]
        }
      ]
    },
    {
      "cell_type": "markdown",
      "metadata": {
        "id": "HwvdLswFraVq"
      },
      "source": [
        "## 2. Autograd (Automatic Differentiation)\n",
        "PyTorch provides automatic differentiation using its autograd package. This is used to calculate gradients during backpropagation.\n",
        "\n"
      ],
      "id": "HwvdLswFraVq"
    },
    {
      "cell_type": "code",
      "source": [
        "# Example of Autograd\n",
        "\n",
        "x = torch.tensor([2.0], requires_grad=True)  # Requires gradient calculation\n",
        "y = x**2 + 3*x + 5\n",
        "\n",
        "y.backward()  # Perform backpropagation to compute gradients\n",
        "print(x.grad)  # Gradient of y w.r.t. x\n"
      ],
      "metadata": {
        "colab": {
          "base_uri": "https://localhost:8080/"
        },
        "id": "xSqdzrknMUC-",
        "outputId": "0de9e36a-1459-42e1-8b79-991db03b7af8"
      },
      "id": "xSqdzrknMUC-",
      "execution_count": 7,
      "outputs": [
        {
          "output_type": "stream",
          "name": "stdout",
          "text": [
            "tensor([7.])\n"
          ]
        }
      ]
    },
    {
      "cell_type": "markdown",
      "metadata": {
        "id": "cz5Y_eENraVq"
      },
      "source": [
        "## 3. Building Neural Networks in PyTorch\n",
        "PyTorch provides the `torch.nn` module to build neural networks. Models are defined by creating subclasses of `torch.nn.Module`.\n"
      ],
      "id": "cz5Y_eENraVq"
    },
    {
      "cell_type": "code",
      "source": [
        "# Example of a Simple Neural Network\n",
        "\n",
        "import torch.nn as nn\n",
        "import torch.optim as optim\n",
        "\n",
        "class SimpleNN(nn.Module):\n",
        "  #declares a class named SimpleNN, inheriting from nn.Module\n",
        "  #nn.Module is the base class for all neural network modules in PyTorch.\n",
        "  #Inheriting from it provides essential functionalities like parameter management and the ability to move the model to different devices (e.g., GPU)\n",
        "\n",
        "    def __init__(self):\n",
        "        super().__init__()\n",
        "        #It ensures that any necessary initialization steps defined in the parent class are also executed for the child class.\n",
        "\n",
        "        self.fc1 = nn.Linear(2, 4)  # 2 inputs, 4 outputs\n",
        "        self.fc2 = nn.Linear(4, 1)  # 4 inputs, 1 output\n",
        "\n",
        "    def forward(self, x):\n",
        "      #This method defines the forward pass of the neural network, specifying how input data x flows through the layers\n",
        "\n",
        "        x = torch.relu(self.fc1(x))  # Apply ReLU activation on the output of first hidden layer fc1\n",
        "        x = self.fc2(x)  # Final output\n",
        "        return x\n",
        "\n",
        "model = SimpleNN()\n",
        "input_data = torch.tensor([1.0, 2.0])  # Sample input\n",
        "print(\"input_data: \", input_data)\n",
        "\n",
        "output_data = model(input_data)\n",
        "# ou are correct in observing that calling model.forward(input_data) would be the explicit way to trigger the forward pass\n",
        "# of the neural network. However, in PyTorch, the __call__ method of nn.Module is implemented to automatically call the forward method when the model object is called like a function\n",
        "print(\"output_data: \",output_data)\n"
      ],
      "metadata": {
        "colab": {
          "base_uri": "https://localhost:8080/"
        },
        "id": "8O2kfjJXMxY6",
        "outputId": "eac0230b-394e-42c4-8197-6b5f597bd1b6"
      },
      "id": "8O2kfjJXMxY6",
      "execution_count": 12,
      "outputs": [
        {
          "output_type": "stream",
          "name": "stdout",
          "text": [
            "input_data:  tensor([1., 2.])\n",
            "output_data:  tensor([0.6721], grad_fn=<ViewBackward0>)\n"
          ]
        }
      ]
    },
    {
      "cell_type": "markdown",
      "metadata": {
        "id": "pe_hVluGraVr"
      },
      "source": [
        "## 4. Data Loading and Preprocessing\n",
        "PyTorch provides utilities like `Dataset` and `DataLoader` for loading and batching data efficiently.\n",
        "\n",
        "\n"
      ],
      "id": "pe_hVluGraVr"
    },
    {
      "cell_type": "code",
      "source": [
        "# Using DataLoader\n",
        "\n",
        "from torch.utils.data import Dataset, DataLoader\n",
        "\n",
        "class CustomDataset(Dataset):\n",
        "    def __init__(self, data):\n",
        "        self.data = data\n",
        "    def __len__(self):\n",
        "        return len(self.data)\n",
        "    def __getitem__(self, idx):\n",
        "        return self.data[idx]\n",
        "\n",
        "dataset = CustomDataset([1, 2, 3, 4, 5])\n",
        "dataloader = DataLoader(dataset, batch_size=2, shuffle=True)\n",
        "\n",
        "for batch in dataloader:\n",
        "    print(batch)\n"
      ],
      "metadata": {
        "colab": {
          "base_uri": "https://localhost:8080/"
        },
        "id": "TRNZMKZ5QUNo",
        "outputId": "e6c20c5f-0ccb-4434-a537-eb52bb5e63d0"
      },
      "id": "TRNZMKZ5QUNo",
      "execution_count": 15,
      "outputs": [
        {
          "output_type": "stream",
          "name": "stdout",
          "text": [
            "tensor([2, 5])\n",
            "tensor([3, 1])\n",
            "tensor([4])\n"
          ]
        }
      ]
    },
    {
      "cell_type": "markdown",
      "metadata": {
        "id": "6lzYM3zEraVr"
      },
      "source": [
        "## 5. Training Models\n",
        "To train a model, we need to define a loss function and an optimizer.\n",
        "\n",
        "\n"
      ],
      "id": "6lzYM3zEraVr"
    },
    {
      "cell_type": "code",
      "source": [
        "train_data = torch.randn(100, 2)\n",
        "train_labels = torch.randn(100, 1)\n"
      ],
      "metadata": {
        "id": "f0kjFD0HSEQx"
      },
      "id": "f0kjFD0HSEQx",
      "execution_count": 26,
      "outputs": []
    },
    {
      "cell_type": "code",
      "source": [
        "train_data[0,:]"
      ],
      "metadata": {
        "colab": {
          "base_uri": "https://localhost:8080/"
        },
        "id": "U-14vsaqSci4",
        "outputId": "2a6bfc1e-c58e-4661-dc8c-dad894ea497e"
      },
      "id": "U-14vsaqSci4",
      "execution_count": 19,
      "outputs": [
        {
          "output_type": "execute_result",
          "data": {
            "text/plain": [
              "tensor([-0.8122, -0.6604])"
            ]
          },
          "metadata": {},
          "execution_count": 19
        }
      ]
    },
    {
      "cell_type": "code",
      "source": [
        "# Loss Function and Optimizer\n",
        "\n",
        "import torch.nn as nn\n",
        "\n",
        "criterion = nn.MSELoss()  # Mean Squared Error loss\n",
        "optimizer = optim.SGD(model.parameters(), lr=0.01)  # Stochastic Gradient Descent\n",
        "\n",
        "# Training loop\n",
        "for epoch in range(10):\n",
        "    optimizer.zero_grad()               # Zero the gradients\n",
        "    output = model.forward(train_data[epoch, :])\n",
        "\n",
        "    loss = criterion(output, train_labels[epoch, 0])\n",
        "    loss.backward()  # Backpropagation\n",
        "    optimizer.step()  # Update the weights\n",
        "\n",
        "    print(f'Epoch [{epoch+1}/10], Loss: {loss.item()}')\n"
      ],
      "metadata": {
        "colab": {
          "base_uri": "https://localhost:8080/"
        },
        "id": "9Ki0j-cmQ_0Z",
        "outputId": "25f8c188-0aa7-4ea9-db85-7488c645381e"
      },
      "id": "9Ki0j-cmQ_0Z",
      "execution_count": 20,
      "outputs": [
        {
          "output_type": "stream",
          "name": "stdout",
          "text": [
            "Epoch [1/10], Loss: 0.2992514371871948\n",
            "Epoch [2/10], Loss: 1.5807994604110718\n",
            "Epoch [3/10], Loss: 0.629538893699646\n",
            "Epoch [4/10], Loss: 1.302790880203247\n",
            "Epoch [5/10], Loss: 0.009915943257510662\n",
            "Epoch [6/10], Loss: 0.003261764533817768\n",
            "Epoch [7/10], Loss: 2.125108003616333\n",
            "Epoch [8/10], Loss: 0.35222846269607544\n",
            "Epoch [9/10], Loss: 2.5590972900390625\n",
            "Epoch [10/10], Loss: 2.3209712505340576\n"
          ]
        },
        {
          "output_type": "stream",
          "name": "stderr",
          "text": [
            "/usr/local/lib/python3.10/dist-packages/torch/nn/modules/loss.py:608: UserWarning: Using a target size (torch.Size([])) that is different to the input size (torch.Size([1])). This will likely lead to incorrect results due to broadcasting. Please ensure they have the same size.\n",
            "  return F.mse_loss(input, target, reduction=self.reduction)\n"
          ]
        }
      ]
    },
    {
      "cell_type": "markdown",
      "metadata": {
        "id": "ApWRv2VeraVr"
      },
      "source": [
        "## 6. Saving and Loading Models\n",
        "Once a model is trained, you can save and load the model's weights for later use.\n",
        "\n",
        "\n"
      ],
      "id": "ApWRv2VeraVr"
    },
    {
      "cell_type": "code",
      "source": [
        "# Saving Model Weights\n",
        "torch.save(model.state_dict(), 'model.pth')  # Save weights"
      ],
      "metadata": {
        "id": "pkzi9ka0TC5b"
      },
      "id": "pkzi9ka0TC5b",
      "execution_count": 21,
      "outputs": []
    },
    {
      "cell_type": "code",
      "source": [
        "# Loading Model Weights\n",
        "\n",
        "model = SimpleNN()\n",
        "model.load_state_dict(torch.load('model.pth'))  # Load weights\n",
        "model.eval()  # Set to evaluation mode"
      ],
      "metadata": {
        "colab": {
          "base_uri": "https://localhost:8080/"
        },
        "id": "x6Ee0IbYTHfO",
        "outputId": "aa6b216e-728c-475e-a13e-bd3312442af8"
      },
      "id": "x6Ee0IbYTHfO",
      "execution_count": 22,
      "outputs": [
        {
          "output_type": "stream",
          "name": "stderr",
          "text": [
            "<ipython-input-22-74ce18e0f668>:4: FutureWarning: You are using `torch.load` with `weights_only=False` (the current default value), which uses the default pickle module implicitly. It is possible to construct malicious pickle data which will execute arbitrary code during unpickling (See https://github.com/pytorch/pytorch/blob/main/SECURITY.md#untrusted-models for more details). In a future release, the default value for `weights_only` will be flipped to `True`. This limits the functions that could be executed during unpickling. Arbitrary objects will no longer be allowed to be loaded via this mode unless they are explicitly allowlisted by the user via `torch.serialization.add_safe_globals`. We recommend you start setting `weights_only=True` for any use case where you don't have full control of the loaded file. Please open an issue on GitHub for any issues related to this experimental feature.\n",
            "  model.load_state_dict(torch.load('model.pth'))  # Load weights\n"
          ]
        },
        {
          "output_type": "execute_result",
          "data": {
            "text/plain": [
              "SimpleNN(\n",
              "  (fc1): Linear(in_features=2, out_features=4, bias=True)\n",
              "  (fc2): Linear(in_features=4, out_features=1, bias=True)\n",
              ")"
            ]
          },
          "metadata": {},
          "execution_count": 22
        }
      ]
    },
    {
      "cell_type": "markdown",
      "metadata": {
        "id": "6WNtJHd-raVs"
      },
      "source": [
        "## 7. GPU Acceleration\n",
        "PyTorch supports GPU acceleration. You can move tensors and models to a GPU using `.to(device)`.\n",
        "\n",
        "\n"
      ],
      "id": "6WNtJHd-raVs"
    },
    {
      "cell_type": "code",
      "source": [
        "# Example of Using GPU\n",
        "\n",
        "device = torch.device('cuda' if torch.cuda.is_available() else 'cpu')\n",
        "model = SimpleNN().to(device)\n",
        "input_data = input_data.to(device)\n",
        "output = model(input_data)"
      ],
      "metadata": {
        "id": "mgwmSFVhTcQr"
      },
      "id": "mgwmSFVhTcQr",
      "execution_count": 23,
      "outputs": []
    },
    {
      "cell_type": "markdown",
      "metadata": {
        "id": "eTYWamWpraVs"
      },
      "source": [
        "## 8. Transfer Learning (Advanced)\n",
        "Transfer learning allows you to leverage pre-trained models and fine-tune them for your specific task.\n",
        "\n",
        "\n"
      ],
      "id": "eTYWamWpraVs"
    },
    {
      "cell_type": "code",
      "source": [
        "# Example: Fine-tuning a Pre-trained Model\n",
        "\n",
        "import torchvision.models as models\n",
        "\n",
        "model = models.resnet18(pretrained=True)\n",
        "for param in model.parameters():\n",
        "    param.requires_grad = False  # Freeze parameters\n",
        "\n",
        "model.fc = nn.Linear(model.fc.in_features, 2)  # Modify last layer\n",
        "model = model.to(device)"
      ],
      "metadata": {
        "id": "iNPj2nMkTnBx"
      },
      "id": "iNPj2nMkTnBx",
      "execution_count": 25,
      "outputs": []
    }
  ],
  "metadata": {
    "kernelspec": {
      "display_name": "Python 3",
      "name": "python3"
    },
    "language_info": {
      "codemirror_mode": {
        "name": "ipython",
        "version": "3"
      },
      "file_extension": ".py",
      "mimetype": "text/x-python",
      "name": "python",
      "nbconvert_exporter": "python",
      "version": "3.8.8"
    },
    "colab": {
      "provenance": [],
      "gpuType": "T4",
      "include_colab_link": true
    },
    "accelerator": "GPU"
  },
  "nbformat": 4,
  "nbformat_minor": 5
}
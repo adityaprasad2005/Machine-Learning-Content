{
  "cells": [
    {
      "cell_type": "markdown",
      "metadata": {
        "id": "view-in-github",
        "colab_type": "text"
      },
      "source": [
        "<a href=\"https://colab.research.google.com/github/adityaprasad2005/Machine-Learning-Content/blob/main/pytorch_fundamentals.ipynb\" target=\"_parent\"><img src=\"https://colab.research.google.com/assets/colab-badge.svg\" alt=\"Open In Colab\"/></a>"
      ]
    },
    {
      "cell_type": "markdown",
      "metadata": {
        "id": "BEWKdjAIraVm"
      },
      "source": [
        "# PyTorch Fundamentals\n",
        "This Jupyter notebook will guide you through the basics of the PyTorch and Torch libraries.\n",
        "It will cover everything from tensor manipulation to building and training simple neural networks.\n",
        "\n",
        "## Table of Contents:\n",
        "1. Introduction to PyTorch\n",
        "2. Autograd (Automatic Differentiation)\n",
        "3. Building Neural Networks in PyTorch\n",
        "4. Data Loading and Preprocessing\n",
        "5. Training Models\n",
        "6. Saving and Loading Models\n",
        "7. GPU Acceleration\n",
        "8. Transfer Learning (Advanced)\n"
      ],
      "id": "BEWKdjAIraVm"
    },
    {
      "cell_type": "markdown",
      "metadata": {
        "id": "o_WKNWruraVp"
      },
      "source": [
        "## 1. Introduction to PyTorch\n",
        "### What is PyTorch?\n",
        "PyTorch is an open-source machine learning library based on the Torch library. It provides flexible tools to build deep learning models and has a dynamic computation graph.\n",
        "It is primarily used for training neural networks.\n",
        "\n",
        "### Tensors in PyTorch\n",
        "Tensors are the core building blocks of PyTorch. They are multi-dimensional arrays and are similar to NumPy arrays, but they can also run on GPUs.\n"
      ],
      "id": "o_WKNWruraVp"
    },
    {
      "cell_type": "code",
      "source": [
        "# To import uninstalled libraries\n",
        "\n",
        "!pip install gym"
      ],
      "metadata": {
        "colab": {
          "base_uri": "https://localhost:8080/"
        },
        "id": "8yASLuGx0En8",
        "outputId": "8e7e81b4-f2aa-455b-c0bc-cadcec897ad6"
      },
      "id": "8yASLuGx0En8",
      "execution_count": 8,
      "outputs": [
        {
          "output_type": "stream",
          "name": "stdout",
          "text": [
            "Requirement already satisfied: gym in /usr/local/lib/python3.10/dist-packages (0.25.2)\n",
            "Requirement already satisfied: numpy>=1.18.0 in /usr/local/lib/python3.10/dist-packages (from gym) (1.26.4)\n",
            "Requirement already satisfied: cloudpickle>=1.2.0 in /usr/local/lib/python3.10/dist-packages (from gym) (3.1.0)\n",
            "Requirement already satisfied: gym_notices>=0.0.4 in /usr/local/lib/python3.10/dist-packages (from gym) (0.0.8)\n"
          ]
        }
      ]
    },
    {
      "cell_type": "code",
      "source": [
        "# Creating Tensors\n",
        "\n",
        "import torch\n",
        "tensor_a = torch.tensor([1, 2, 3, 4])  # 1D Tensor\n",
        "tensor_b = torch.ones(2, 2)  # 3x3 Tensor filled with ones\n",
        "tensor_c = torch.zeros(2, 2)  # 2x2 Tensor filled with zeros\n",
        "print(tensor_a)\n",
        "print(tensor_b)\n",
        "print(tensor_c)"
      ],
      "metadata": {
        "colab": {
          "base_uri": "https://localhost:8080/"
        },
        "id": "VUBYLuqsr0sq",
        "outputId": "1c4b8ad6-dd82-4b6c-c579-b921dc09d094"
      },
      "id": "VUBYLuqsr0sq",
      "execution_count": null,
      "outputs": [
        {
          "output_type": "stream",
          "name": "stdout",
          "text": [
            "tensor([1, 2, 3, 4])\n",
            "tensor([[1., 1.],\n",
            "        [1., 1.]])\n",
            "tensor([[0., 0.],\n",
            "        [0., 0.]])\n"
          ]
        }
      ]
    },
    {
      "cell_type": "code",
      "source": [
        "# Tensor Operations\n",
        "\n",
        "tensor_sum = tensor_b + tensor_c  # Tensor addition\n",
        "tensor_mult = tensor_b * 2  # Scalar multiplication\n",
        "print(tensor_sum)\n",
        "print(tensor_mult)"
      ],
      "metadata": {
        "colab": {
          "base_uri": "https://localhost:8080/"
        },
        "id": "1CZpcif9z7Qv",
        "outputId": "b0d4644e-3f13-43b6-962d-1e1fbf977987"
      },
      "id": "1CZpcif9z7Qv",
      "execution_count": null,
      "outputs": [
        {
          "output_type": "stream",
          "name": "stdout",
          "text": [
            "tensor([[1., 1.],\n",
            "        [1., 1.]])\n",
            "tensor([[2., 2.],\n",
            "        [2., 2.]])\n"
          ]
        }
      ]
    },
    {
      "cell_type": "markdown",
      "metadata": {
        "id": "HwvdLswFraVq"
      },
      "source": [
        "## 2. Autograd (Automatic Differentiation)\n",
        "PyTorch provides automatic differentiation using its autograd package. This is used to calculate gradients during backpropagation.\n",
        "\n",
        "#### Example of Autograd\n",
        "```python\n",
        "x = torch.tensor([2.0], requires_grad=True)  # Requires gradient calculation\n",
        "y = x**2 + 3*x + 5\n",
        "y.backward()  # Perform backpropagation to compute gradients\n",
        "print(x.grad)  # Gradient of y w.r.t. x\n",
        "```\n"
      ],
      "id": "HwvdLswFraVq"
    },
    {
      "cell_type": "markdown",
      "metadata": {
        "id": "cz5Y_eENraVq"
      },
      "source": [
        "## 3. Building Neural Networks in PyTorch\n",
        "PyTorch provides the `torch.nn` module to build neural networks. Models are defined by creating subclasses of `torch.nn.Module`.\n",
        "\n",
        "### Example of a Simple Neural Network\n",
        "```python\n",
        "import torch.nn as nn\n",
        "import torch.optim as optim\n",
        "\n",
        "class SimpleNN(nn.Module):\n",
        "    def __init__(self):\n",
        "        super(SimpleNN, self).__init__()\n",
        "        self.fc1 = nn.Linear(2, 4)  # 2 inputs, 4 outputs\n",
        "        self.fc2 = nn.Linear(4, 1)  # 4 inputs, 1 output\n",
        "\n",
        "    def forward(self, x):\n",
        "        x = torch.relu(self.fc1(x))  # Apply ReLU activation\n",
        "        x = self.fc2(x)  # Final output\n",
        "        return x\n",
        "\n",
        "model = SimpleNN()\n",
        "input_data = torch.tensor([[1.0, 2.0]])  # Sample input\n",
        "output_data = model(input_data)\n",
        "print(output_data)\n",
        "```\n"
      ],
      "id": "cz5Y_eENraVq"
    },
    {
      "cell_type": "markdown",
      "metadata": {
        "id": "pe_hVluGraVr"
      },
      "source": [
        "## 4. Data Loading and Preprocessing\n",
        "PyTorch provides utilities like `Dataset` and `DataLoader` for loading and batching data efficiently.\n",
        "\n",
        "### Using `DataLoader`\n",
        "```python\n",
        "from torch.utils.data import Dataset, DataLoader\n",
        "\n",
        "class CustomDataset(Dataset):\n",
        "    def __init__(self, data):\n",
        "        self.data = data\n",
        "    def __len__(self):\n",
        "        return len(self.data)\n",
        "    def __getitem__(self, idx):\n",
        "        return self.data[idx]\n",
        "\n",
        "dataset = CustomDataset([1, 2, 3, 4, 5])\n",
        "dataloader = DataLoader(dataset, batch_size=2, shuffle=True)\n",
        "for batch in dataloader:\n",
        "    print(batch)\n",
        "```\n"
      ],
      "id": "pe_hVluGraVr"
    },
    {
      "cell_type": "markdown",
      "metadata": {
        "id": "6lzYM3zEraVr"
      },
      "source": [
        "## 5. Training Models\n",
        "To train a model, we need to define a loss function and an optimizer.\n",
        "\n",
        "### Loss Function and Optimizer\n",
        "```python\n",
        "criterion = nn.MSELoss()  # Mean Squared Error loss\n",
        "optimizer = optim.SGD(model.parameters(), lr=0.01)  # Stochastic Gradient Descent\n",
        "\n",
        "# Training loop\n",
        "for epoch in range(10):\n",
        "    optimizer.zero_grad()  # Zero the gradients\n",
        "    output = model(input_data)\n",
        "    loss = criterion(output, target)\n",
        "    loss.backward()  # Backpropagation\n",
        "    optimizer.step()  # Update the weights\n",
        "    print(f'Epoch [{epoch+1}/10], Loss: {loss.item()}')\n",
        "```\n"
      ],
      "id": "6lzYM3zEraVr"
    },
    {
      "cell_type": "markdown",
      "metadata": {
        "id": "ApWRv2VeraVr"
      },
      "source": [
        "## 6. Saving and Loading Models\n",
        "Once a model is trained, you can save and load the model's weights for later use.\n",
        "\n",
        "### Saving Model Weights\n",
        "```python\n",
        "torch.save(model.state_dict(), 'model.pth')  # Save weights\n",
        "```\n",
        "\n",
        "### Loading Model Weights\n",
        "```python\n",
        "model = SimpleNN()\n",
        "model.load_state_dict(torch.load('model.pth'))  # Load weights\n",
        "model.eval()  # Set to evaluation mode\n",
        "```\n"
      ],
      "id": "ApWRv2VeraVr"
    },
    {
      "cell_type": "markdown",
      "metadata": {
        "id": "6WNtJHd-raVs"
      },
      "source": [
        "## 7. GPU Acceleration\n",
        "PyTorch supports GPU acceleration. You can move tensors and models to a GPU using `.to(device)`.\n",
        "\n",
        "### Example of Using GPU\n",
        "```python\n",
        "device = torch.device('cuda' if torch.cuda.is_available() else 'cpu')\n",
        "model = SimpleNN().to(device)\n",
        "input_data = input_data.to(device)\n",
        "output = model(input_data)\n",
        "```\n"
      ],
      "id": "6WNtJHd-raVs"
    },
    {
      "cell_type": "markdown",
      "metadata": {
        "id": "eTYWamWpraVs"
      },
      "source": [
        "## 8. Transfer Learning (Advanced)\n",
        "Transfer learning allows you to leverage pre-trained models and fine-tune them for your specific task.\n",
        "\n",
        "### Example: Fine-tuning a Pre-trained Model\n",
        "```python\n",
        "import torchvision.models as models\n",
        "model = models.resnet18(pretrained=True)\n",
        "for param in model.parameters():\n",
        "    param.requires_grad = False  # Freeze parameters\n",
        "model.fc = nn.Linear(model.fc.in_features, 2)  # Modify last layer\n",
        "model = model.to(device)\n",
        "```\n"
      ],
      "id": "eTYWamWpraVs"
    }
  ],
  "metadata": {
    "kernelspec": {
      "display_name": "Python 3",
      "name": "python3"
    },
    "language_info": {
      "codemirror_mode": {
        "name": "ipython",
        "version": "3"
      },
      "file_extension": ".py",
      "mimetype": "text/x-python",
      "name": "python",
      "nbconvert_exporter": "python",
      "version": "3.8.8"
    },
    "colab": {
      "provenance": [],
      "gpuType": "T4",
      "toc_visible": true,
      "include_colab_link": true
    },
    "accelerator": "GPU"
  },
  "nbformat": 4,
  "nbformat_minor": 5
}